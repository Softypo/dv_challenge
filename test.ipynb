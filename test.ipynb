{
 "cells": [
  {
   "cell_type": "code",
   "execution_count": null,
   "metadata": {},
   "outputs": [],
   "source": [
    "import numpy as np\n",
    "import pandas as pd"
   ]
  },
  {
   "cell_type": "code",
   "execution_count": null,
   "metadata": {},
   "outputs": [],
   "source": [
    "def dv_importFromRaw(filepath, T=False):\n",
    "\n",
    "    try:\n",
    "        with open(filepath, 'rb') as f:\n",
    "            RAW = f.read\n",
    "            data = np.frombuffer(RAW(),\n",
    "                                 dtype=np.ushort,\n",
    "                                 offset=0).reshape(1280, 768, 768)\n",
    "            if T:\n",
    "                values = data.T\n",
    "            else:\n",
    "                values = data\n",
    "\n",
    "            return values\n",
    "\n",
    "    except IOError:\n",
    "        print(\"Error while opening the file!\")\n",
    "\n",
    "scan = dv_importFromRaw(\".\\\\training\\\\volumes\\scan_001.raw\", T=True)"
   ]
  },
  {
   "cell_type": "code",
   "execution_count": null,
   "metadata": {},
   "outputs": [],
   "source": [
    "import pyvista as pv\n",
    "\n",
    "data = pv.wrap(scan)\n",
    "data.plot(volume=True) # Volume render"
   ]
  },
  {
   "cell_type": "code",
   "execution_count": null,
   "metadata": {},
   "outputs": [],
   "source": [
    "xyz.flatten()"
   ]
  },
  {
   "cell_type": "code",
   "execution_count": 58,
   "metadata": {},
   "outputs": [],
   "source": [
    "#xy = [[xy, xy] for xy in range(0, 768*0.49479, 0.49479)]\n",
    "\n",
    "xyz= []\n",
    "for z in np.arange(0, 1280*0.3125, 0.3125):\n",
    "    for xy in np.arange(0, 768*0.49479, 0.49479):\n",
    "        xyz.append([xy, xy, z])\n",
    "xyz = np.array(xyz)\n",
    "\n",
    "test = np.array([[x, y, z] for x in np.arange(0, 768*0.49479, 0.49479) for y in np.arange(0, 768*0.49479, 0.49479) for z in np.arange(0, 1280*0.3125, 0.3125)])"
   ]
  },
  {
   "cell_type": "code",
   "execution_count": null,
   "metadata": {},
   "outputs": [],
   "source": [
    "import open3d as o3d\n",
    "\n",
    "pcd = o3d.geometry.PointCloud() # create an empty poun cloud object\n",
    "\n",
    "pcd.points = o3d.utility.Vector3dVector(xyz) # feed the xyz coordinates\n",
    "\n",
    "#pcd.colors = o3d.utility.Vector3dVector(scan.flat) # feed the rgb colors\n",
    "\n",
    "#pcd.normals = o3d.utility.Vector3dVector(fmi_xyz_n) # feed the normal vectors\n",
    "\n",
    "o3d.visualization.draw_geometries([pcd], point_show_normal=True) # display the pcd"
   ]
  },
  {
   "cell_type": "code",
   "execution_count": null,
   "metadata": {},
   "outputs": [],
   "source": [
    "grid = pv.UniformGrid(dimensions=(1280, 768, 768), spacing=(0.49479, 0.49479, 0.3125), origin=(0, 0, 0), data)"
   ]
  },
  {
   "cell_type": "code",
   "execution_count": null,
   "metadata": {},
   "outputs": [],
   "source": [
    "test = np.load('fmi_xyz.npy')"
   ]
  },
  {
   "cell_type": "code",
   "execution_count": null,
   "metadata": {},
   "outputs": [],
   "source": []
  }
 ],
 "metadata": {
  "kernelspec": {
   "display_name": ".venvp3107",
   "language": "python",
   "name": "python3"
  },
  "language_info": {
   "codemirror_mode": {
    "name": "ipython",
    "version": 3
   },
   "file_extension": ".py",
   "mimetype": "text/x-python",
   "name": "python",
   "nbconvert_exporter": "python",
   "pygments_lexer": "ipython3",
   "version": "3.10.7"
  },
  "orig_nbformat": 4,
  "vscode": {
   "interpreter": {
    "hash": "c9f565c8deb19c75b4f31f2ce4c3f1e06c45e8750f898c87f1ee218b1a47bdc1"
   }
  }
 },
 "nbformat": 4,
 "nbformat_minor": 2
}
