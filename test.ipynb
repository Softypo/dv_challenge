{
 "cells": [
  {
   "cell_type": "code",
   "execution_count": null,
   "metadata": {},
   "outputs": [],
   "source": [
    "import numpy as np\n",
    "import pandas as pd\n",
    "import open3d as o3d\n",
    "import pyvista as pv"
   ]
  },
  {
   "cell_type": "code",
   "execution_count": null,
   "metadata": {},
   "outputs": [],
   "source": [
    "def dv_importFromRaw(filepath, T=False):\n",
    "\n",
    "    try:\n",
    "        with open(filepath, 'rb') as f:\n",
    "            RAW = f.read\n",
    "            data = np.frombuffer(RAW(),\n",
    "                                 dtype=np.uint8,\n",
    "                                 offset=0).reshape(1280, 768, 768)\n",
    "            if T:\n",
    "                values = data.T\n",
    "            else:\n",
    "                values = data\n",
    "\n",
    "            return values\n",
    "\n",
    "    except IOError:\n",
    "        print(\"Error while opening the file!\")\n",
    "\n",
    "scan = dv_importFromRaw(\".\\\\ff\\\\processed_volume_export_768x768x1280_uint8_t.raw\", T=True)"
   ]
  },
  {
   "cell_type": "code",
   "execution_count": null,
   "metadata": {},
   "outputs": [],
   "source": [
    "values = np.where(scan>=255, scan, 0)"
   ]
  },
  {
   "cell_type": "code",
   "execution_count": null,
   "metadata": {},
   "outputs": [],
   "source": [
    "\n",
    "data = pv.wrap(scan)\n",
    "data.plot(volume=True, cmap=\"bone\", opacity=\"sigmoid\") # Volume render"
   ]
  },
  {
   "cell_type": "code",
   "execution_count": null,
   "metadata": {},
   "outputs": [],
   "source": [
    "# values = np.linspace(0, 10, 1000).reshape((20, 5, 10))\n",
    "#values = scan\n",
    "\n",
    "# Create the spatial reference\n",
    "grid = pv.UniformGrid()\n",
    "\n",
    "# Set the grid dimensions: shape + 1 because we want to inject our values on\n",
    "#   the CELL data\n",
    "grid.dimensions = np.array(values.shape) + 1\n",
    "\n",
    "# Edit the spatial reference\n",
    "grid.origin = (0, 0, 0)  # The bottom left corner of the data set\n",
    "grid.spacing = (0.49479, 0.49479, 0.3125)  # These are the cell sizes along each axis\n",
    "\n",
    "# Add the data values to the cell data\n",
    "grid.cell_data[\"values\"] = values.flatten(order=\"F\")  # Flatten the array!\n",
    "\n",
    "# Now plot the grid!\n",
    "grid.plot(volume=True)"
   ]
  },
  {
   "cell_type": "code",
   "execution_count": null,
   "metadata": {},
   "outputs": [],
   "source": [
    "surf = grid.extract_surface()\n",
    "surf.plot(show_scalar_bar=False)"
   ]
  },
  {
   "cell_type": "code",
   "execution_count": null,
   "metadata": {},
   "outputs": [],
   "source": [
    "grid.plot(volume=True)"
   ]
  },
  {
   "cell_type": "code",
   "execution_count": null,
   "metadata": {},
   "outputs": [],
   "source": [
    "zipy = zip(scan.flatten(), grid.points)"
   ]
  },
  {
   "cell_type": "code",
   "execution_count": null,
   "metadata": {},
   "outputs": [],
   "source": [
    "#filtered = np.where(scan.flatten()>0.0, grid.points)\n",
    "filtered = np.array([point for value, point in zip(scan.flatten(), grid.points) if value>=255])"
   ]
  },
  {
   "cell_type": "code",
   "execution_count": null,
   "metadata": {},
   "outputs": [],
   "source": [
    "for values, point in zip(scan.flatten(), grid.points):\n",
    "    print(\"values \",values)\n",
    "    print(\"points \",point)"
   ]
  },
  {
   "cell_type": "code",
   "execution_count": null,
   "metadata": {},
   "outputs": [],
   "source": [
    "np.save('filtered_file.npy', filtered)"
   ]
  },
  {
   "cell_type": "code",
   "execution_count": null,
   "metadata": {},
   "outputs": [],
   "source": [
    "value = values.flatten()"
   ]
  },
  {
   "cell_type": "code",
   "execution_count": null,
   "metadata": {},
   "outputs": [],
   "source": [
    "xyz = grid.points"
   ]
  },
  {
   "cell_type": "code",
   "execution_count": null,
   "metadata": {},
   "outputs": [],
   "source": [
    "pcd = o3d.geometry.PointCloud() # create an empty poun cloud object\n",
    "\n",
    "pcd.points = o3d.utility.Vector3dVector(filtered) # feed the xyz coordinates\n",
    "\n",
    "#pcd.colors = o3d.utility.Vector3dVector(scan.flat) # feed the rgb colors\n",
    "\n",
    "#pcd.normals = o3d.utility.Vector3dVector(fmi_xyz_n) # feed the normal vectors\n",
    "\n",
    "o3d.visualization.draw_geometries([pcd], point_show_normal=True) # display the pcd"
   ]
  },
  {
   "cell_type": "code",
   "execution_count": null,
   "metadata": {},
   "outputs": [],
   "source": [
    "test = np.array(np.meshgrid(scan), )"
   ]
  },
  {
   "cell_type": "code",
   "execution_count": null,
   "metadata": {},
   "outputs": [],
   "source": [
    "#xy = [[xy, xy] for xy in range(0, 768*0.49479, 0.49479)]\n",
    "\n",
    "xyz= []\n",
    "for z in np.arange(0, 1280*0.3125, 0.3125):\n",
    "    for xy in np.arange(0, 768*0.49479, 0.49479):\n",
    "        xyz.append([xy, xy, z])\n",
    "xyz = np.array(xyz)\n",
    "\n",
    "test = np.array([[x, y, z] for x in np.arange(0, 768*0.49479, 0.49479) for y in np.arange(0, 768*0.49479, 0.49479) for z in np.arange(0, 1280*0.3125, 0.3125)])"
   ]
  },
  {
   "cell_type": "code",
   "execution_count": null,
   "metadata": {},
   "outputs": [],
   "source": [
    "pcd = o3d.geometry.PointCloud() # create an empty poun cloud object\n",
    "\n",
    "pcd.points = o3d.utility.Vector3dVector(test) # feed the xyz coordinates\n",
    "\n",
    "#pcd.colors = o3d.utility.Vector3dVector(scan.flat) # feed the rgb colors\n",
    "\n",
    "#pcd.normals = o3d.utility.Vector3dVector(fmi_xyz_n) # feed the normal vectors\n",
    "\n",
    "o3d.visualization.draw_geometries([pcd], point_show_normal=True) # display the pcd"
   ]
  },
  {
   "cell_type": "code",
   "execution_count": null,
   "metadata": {},
   "outputs": [],
   "source": [
    "grid = pv.UniformGrid(dimensions=(1280, 768, 768), spacing=(0.49479, 0.49479, 0.3125), origin=(0, 0, 0), data)"
   ]
  },
  {
   "cell_type": "code",
   "execution_count": null,
   "metadata": {},
   "outputs": [],
   "source": [
    "test = np.load('fmi_xyz.npy')"
   ]
  },
  {
   "cell_type": "code",
   "execution_count": null,
   "metadata": {},
   "outputs": [],
   "source": [
    "# examples/Python/Basic/working_with_numpy.py\n",
    "\n",
    "import copy\n",
    "import numpy as np\n",
    "import open3d as o3d\n",
    "\n",
    "# generate some neat n times 3 matrix using a variant of sync function\n",
    "x = np.linspace(-3, 3, 401)\n",
    "mesh_x, mesh_y = np.meshgrid(x, x)\n",
    "z = np.sinc((np.power(mesh_x, 2) + np.power(mesh_y, 2)))\n",
    "z_norm = (z - z.min()) / (z.max() - z.min())\n",
    "xyz = np.zeros((np.size(mesh_x), 3))\n",
    "xyz[:, 0] = np.reshape(mesh_x, -1)\n",
    "xyz[:, 1] = np.reshape(mesh_y, -1)\n",
    "xyz[:, 2] = np.reshape(z_norm, -1)\n",
    "# print('xyz')\n",
    "# print(xyz)\n",
    "\n",
    "# # Pass xyz to Open3D.o3d.geometry.PointCloud and visualize\n",
    "# pcd = o3d.geometry.PointCloud()\n",
    "# pcd.points = o3d.utility.Vector3dVector(xyz)\n",
    "# #o3d.io.write_point_cloud(\"../../TestData/sync.ply\", pcd)\n",
    "\n",
    "# # Load saved point cloud and visualize it\n",
    "# #pcd_load = o3d.io.read_point_cloud(\"../../TestData/sync.ply\")\n",
    "# o3d.visualization.draw_geometries([pcd_load])\n",
    "\n",
    "# # convert Open3D.o3d.geometry.PointCloud to numpy array\n",
    "# xyz_load = np.asarray(pcd_load.points)\n",
    "# print('xyz_load')\n",
    "# print(xyz_load)\n",
    "\n",
    "# # save z_norm as an image (change [0,1] range to [0,255] range with uint8 type)\n",
    "# img = o3d.geometry.Image((z_norm * 255).astype(np.uint8))\n",
    "# o3d.io.write_image(\"../../TestData/sync.png\", img)\n",
    "# o3d.visualization.draw_geometries([img])"
   ]
  },
  {
   "cell_type": "code",
   "execution_count": null,
   "metadata": {},
   "outputs": [],
   "source": [
    "import numpy as np\n",
    "import pandas as pd\n",
    "import open3d as o3d"
   ]
  },
  {
   "cell_type": "code",
   "execution_count": null,
   "metadata": {},
   "outputs": [],
   "source": [
    "mesh = o3d.io.read_triangle_mesh(\"F:\\.repos\\dv_challenge\\\\ff\\Contour.ply\")"
   ]
  },
  {
   "cell_type": "code",
   "execution_count": null,
   "metadata": {},
   "outputs": [],
   "source": [
    "pcd = o3d.io.read_point_cloud(\"F:\\.repos\\dv_challenge\\\\ff\\Contour.ply\")"
   ]
  },
  {
   "cell_type": "code",
   "execution_count": null,
   "metadata": {},
   "outputs": [],
   "source": [
    "o3d.visualization.draw_geometries([mesh], point_show_normal=True)"
   ]
  },
  {
   "cell_type": "code",
   "execution_count": null,
   "metadata": {},
   "outputs": [],
   "source": [
    "# mesh = mesh.compute_vertex_normals()\n",
    "# mesh = mesh.compute_triangle_normals()\n",
    "#pcd.estimate_normals(search_param=o3d.geometry.KDTreeSearchParamHybrid(radius=10, max_nn=300))\n",
    "\n",
    "#pcd.colors = o3d.utility.Vector3dVector(fmi_raster[:,:3]) # feed the rgb colors\n",
    "\n",
    "#pcd.normals = o3d.utility.Vector3dVector(np.zeros((1, 3)))  # invalidate existing normals\n",
    "pcd.estimate_normals()\n",
    "#pcd.orient_normals_consistent_tangent_plane(10)\n",
    "#pcd.orient_normals_towards_camera_location(np.array([1., 1., 1.]))\n",
    "\n",
    "o3d.visualization.draw_geometries([pcd], point_show_normal=True) # display the pcd"
   ]
  },
  {
   "cell_type": "code",
   "execution_count": null,
   "metadata": {},
   "outputs": [],
   "source": [
    "mesh, densities = o3d.geometry.TriangleMesh.create_from_point_cloud_poisson(pcd, depth=10) # running PSR algorithm\n",
    "\n",
    "o3d.visualization.draw_geometries([mesh], mesh_show_back_face=False) # display the mesh"
   ]
  },
  {
   "cell_type": "code",
   "execution_count": null,
   "metadata": {},
   "outputs": [],
   "source": [
    "\n",
    "downpcd = pcd.voxel_down_sample(voxel_size=0.03)\n",
    "downpcd.estimate_normals(search_param=o3d.geometry.KDTreeSearchParamHybrid(radius=0.0104,max_nn=12))\n",
    "print('run Poisson surface reconstruction')\n",
    "mesh, densities = o3d.geometry.TriangleMesh.create_from_point_cloud_poisson(downpcd, depth=10, width=0, scale=1.1, linear_fit=True)\n",
    "o3d.visualization.draw_geometries([mesh])"
   ]
  },
  {
   "cell_type": "code",
   "execution_count": null,
   "metadata": {},
   "outputs": [],
   "source": []
  }
 ],
 "metadata": {
  "kernelspec": {
   "display_name": ".venvp3107",
   "language": "python",
   "name": "python3"
  },
  "language_info": {
   "codemirror_mode": {
    "name": "ipython",
    "version": 3
   },
   "file_extension": ".py",
   "mimetype": "text/x-python",
   "name": "python",
   "nbconvert_exporter": "python",
   "pygments_lexer": "ipython3",
   "version": "3.10.7"
  },
  "orig_nbformat": 4,
  "vscode": {
   "interpreter": {
    "hash": "c9f565c8deb19c75b4f31f2ce4c3f1e06c45e8750f898c87f1ee218b1a47bdc1"
   }
  }
 },
 "nbformat": 4,
 "nbformat_minor": 2
}
