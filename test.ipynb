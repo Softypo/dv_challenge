{
 "cells": [
  {
   "cell_type": "code",
   "execution_count": null,
   "metadata": {},
   "outputs": [],
   "source": [
    "import numpy as np\n",
    "import pandas as pd"
   ]
  },
  {
   "cell_type": "code",
   "execution_count": null,
   "metadata": {},
   "outputs": [],
   "source": [
    "def dv_importFromRaw(filepath, T=False):\n",
    "\n",
    "    try:\n",
    "        with open(filepath, 'rb') as f:\n",
    "            RAW = f.read\n",
    "            data = np.frombuffer(RAW(),\n",
    "                                 dtype=np.ushort,\n",
    "                                 offset=0).reshape(1280, 768, 768)\n",
    "            if T:\n",
    "                values = data.T\n",
    "            else:\n",
    "                values = data\n",
    "\n",
    "            return values\n",
    "\n",
    "    except IOError:\n",
    "        print(\"Error while opening the file!\")\n",
    "\n",
    "scan = dv_importFromRaw(\".\\\\training\\\\volumes\\scan_001.raw\")"
   ]
  },
  {
   "cell_type": "code",
   "execution_count": null,
   "metadata": {},
   "outputs": [],
   "source": [
    "import pyvista as pv\n",
    "\n",
    "data = pv.wrap(scan)\n",
    "data.plot(volume=True) # Volume render"
   ]
  },
  {
   "cell_type": "code",
   "execution_count": null,
   "metadata": {},
   "outputs": [],
   "source": []
  }
 ],
 "metadata": {
  "kernelspec": {
   "display_name": ".venvp3107",
   "language": "python",
   "name": "python3"
  },
  "language_info": {
   "codemirror_mode": {
    "name": "ipython",
    "version": 3
   },
   "file_extension": ".py",
   "mimetype": "text/x-python",
   "name": "python",
   "nbconvert_exporter": "python",
   "pygments_lexer": "ipython3",
   "version": "3.10.7"
  },
  "orig_nbformat": 4,
  "vscode": {
   "interpreter": {
    "hash": "c9f565c8deb19c75b4f31f2ce4c3f1e06c45e8750f898c87f1ee218b1a47bdc1"
   }
  }
 },
 "nbformat": 4,
 "nbformat_minor": 2
}
