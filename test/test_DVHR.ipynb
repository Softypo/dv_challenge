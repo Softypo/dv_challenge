{
 "cells": [
  {
   "cell_type": "code",
   "execution_count": null,
   "metadata": {},
   "outputs": [],
   "source": [
    "import sys; sys.path.insert(0, '..') # add parent folder path where lib folder is\n",
    "import dv_lib.dv_importers as dv_importers\n",
    "\n",
    "import numpy as np\n",
    "import pandas as pd\n",
    "import open3d as o3d\n",
    "import pyvista as pv\n",
    "import matplotlib.pyplot as plt\n"
   ]
  },
  {
   "attachments": {},
   "cell_type": "markdown",
   "metadata": {},
   "source": [
    "#### Load raw volume"
   ]
  },
  {
   "cell_type": "code",
   "execution_count": null,
   "metadata": {},
   "outputs": [],
   "source": [
    "#load raw volume\n",
    "scan = dv_importers.dv_importFromRaw(\".\\\\Contour\\\\processed_volume_export_768x768x1280_uint8_t.raw\", T=True)"
   ]
  },
  {
   "attachments": {},
   "cell_type": "markdown",
   "metadata": {},
   "source": [
    "#### Load raw volume into a unifor 3D grid with pyvista"
   ]
  },
  {
   "cell_type": "code",
   "execution_count": null,
   "metadata": {
    "tags": [
     "parameters"
    ]
   },
   "outputs": [],
   "source": [
    "# Create the spatial reference\n",
    "grid = pv.UniformGrid()\n",
    "\n",
    "# Set the grid dimensions: shape + 1 because we want to inject our values on\n",
    "#   the CELL data\n",
    "grid.dimensions = np.array(scan.shape) + 1\n",
    "\n",
    "# Edit the spatial reference\n",
    "grid.origin = (0, 0, 0)  # The bottom left corner of the data set\n",
    "grid.spacing = (0.49479, 0.49479, 0.3125)  # These are the cell sizes along each axis\n",
    "\n",
    "# Add the data values to the cell data\n",
    "grid.cell_data[\"values\"] = scan.flatten(order=\"F\")  # Flatten the array!\n",
    "\n",
    "# Now plot the grid!\n",
    "#grid.plot(volume=True)"
   ]
  },
  {
   "attachments": {},
   "cell_type": "markdown",
   "metadata": {},
   "source": [
    "#### filtering all the non zero values and saving its corresponding xyz from the filtered grid points"
   ]
  },
  {
   "cell_type": "code",
   "execution_count": null,
   "metadata": {},
   "outputs": [],
   "source": [
    "# delete values bellow 200\n",
    "threshed = grid.threshold(200)\n",
    "# threshed.plot()\n",
    "\n",
    "cells = threshed.cell_data['values']\n",
    "points = threshed.points\n",
    "\n",
    "# create surface from volume (not good)\n",
    "# surf = threshed.extract_surface()\n",
    "# surf.plot(show_scalar_bar=False)\n",
    "# surf.save('py_mesh.ply')"
   ]
  },
  {
   "cell_type": "code",
   "execution_count": null,
   "metadata": {},
   "outputs": [],
   "source": [
    "def radial_norms(points, inward=False):\n",
    "    i = -1 if inward else 1\n",
    "    xmean = points[:, 0].mean()\n",
    "    ymean = points[:, 1].mean()\n",
    "    zmean = points[:, 2].mean()\n",
    "    dist = points[:, 2].max() - points[:, 2].min()\n",
    "    normals = []\n",
    "    for x, y, z in points:\n",
    "        azimuth = np.arctan2((x-xmean), (y-ymean))\n",
    "        dip = np.arcsinh((z-zmean)/dist)\n",
    "        normals.append([i*np.sin(azimuth), i*np.cos(azimuth), dip])\n",
    "    return np.array(normals)\n",
    "\n",
    "normals = radial_norms(points)"
   ]
  },
  {
   "cell_type": "code",
   "execution_count": null,
   "metadata": {},
   "outputs": [],
   "source": [
    "pcd = o3d.geometry.PointCloud() # create an empty poun cloud object\n",
    "\n",
    "pcd.points = o3d.utility.Vector3dVector(points) # feed the xyz coordinates\n",
    "\n",
    "pcd.colors = o3d.utility.Vector3dVector(plt.get_cmap('hsv')((points[:, 2] - points[:, 2].min()) / (points[:, 2].max() - points[:, 2].min()))[:, :3]) # feed the rgb colors\n",
    "\n",
    "pcd.normals = o3d.utility.Vector3dVector(normals) # feed the normal vectors\n",
    "\n",
    "o3d.visualization.draw_geometries([pcd], point_show_normal=True) # display the pcd"
   ]
  },
  {
   "cell_type": "code",
   "execution_count": null,
   "metadata": {},
   "outputs": [],
   "source": [
    "pcd.estimate_normals()\n",
    "#pcd.orient_normals_consistent_tangent_plane(10)\n",
    "#pcd.orient_normals_towards_camera_location(np.array([0, 0, 0]))\n",
    "\n",
    "o3d.visualization.draw_geometries([pcd], point_show_normal=True) # display the pcd"
   ]
  },
  {
   "cell_type": "code",
   "execution_count": null,
   "metadata": {},
   "outputs": [],
   "source": [
    "mesh, densities = o3d.geometry.TriangleMesh.create_from_point_cloud_poisson(pcd, depth=10, scale=1.1, linear_fit=False) # running PSR algorithm\n",
    "#mesh.normalize_normals()\n",
    "\n",
    "#o3d.visualization.draw_geometries([mesh], mesh_show_back_face=False) # display the mesh"
   ]
  },
  {
   "cell_type": "code",
   "execution_count": null,
   "metadata": {},
   "outputs": [],
   "source": [
    "#  visualize mesh vertrex densities\n",
    "densities = np.asarray(densities)\n",
    "density_mesh = o3d.geometry.TriangleMesh()\n",
    "density_mesh.vertices = mesh.vertices\n",
    "density_mesh.triangles = mesh.triangles\n",
    "density_mesh.triangle_normals = mesh.triangle_normals\n",
    "density_mesh.vertex_colors = o3d.utility.Vector3dVector(plt.get_cmap('plasma')((densities - densities.min()) / (densities.max() - densities.min()))[:, :3])\n",
    "#o3d.visualization.draw_geometries([density_mesh], mesh_show_back_face=True)"
   ]
  },
  {
   "cell_type": "code",
   "execution_count": null,
   "metadata": {},
   "outputs": [],
   "source": [
    "# removing low density vertices\n",
    "vertices_to_remove = densities < np.quantile(densities, 0.05)\n",
    "mesh.remove_vertices_by_mask(vertices_to_remove)\n",
    "o3d.visualization.draw_geometries([mesh], mesh_show_back_face=True)\n",
    "o3d.io.write_triangle_mesh(\"03d_mesh.ply\", mesh)"
   ]
  },
  {
   "cell_type": "code",
   "execution_count": null,
   "metadata": {},
   "outputs": [],
   "source": [
    "data = pv.read('03d_mesh.ply')\n",
    "data.save('py_mesh.ply')"
   ]
  },
  {
   "cell_type": "code",
   "execution_count": null,
   "metadata": {},
   "outputs": [],
   "source": [
    "test = np.array(np.meshgrid(scan), )"
   ]
  },
  {
   "cell_type": "code",
   "execution_count": null,
   "metadata": {},
   "outputs": [],
   "source": [
    "#xy = [[xy, xy] for xy in range(0, 768*0.49479, 0.49479)]\n",
    "\n",
    "xyz= []\n",
    "for z in np.arange(0, 1280*0.3125, 0.3125):\n",
    "    for xy in np.arange(0, 768*0.49479, 0.49479):\n",
    "        xyz.append([xy, xy, z])\n",
    "xyz = np.array(xyz)\n",
    "\n",
    "test = np.array([[x, y, z] for x in np.arange(0, 768*0.49479, 0.49479) for y in np.arange(0, 768*0.49479, 0.49479) for z in np.arange(0, 1280*0.3125, 0.3125)])"
   ]
  },
  {
   "cell_type": "code",
   "execution_count": null,
   "metadata": {},
   "outputs": [],
   "source": [
    "pcd = o3d.geometry.PointCloud() # create an empty poun cloud object\n",
    "\n",
    "pcd.points = o3d.utility.Vector3dVector(test) # feed the xyz coordinates\n",
    "\n",
    "#pcd.colors = o3d.utility.Vector3dVector(scan.flat) # feed the rgb colors\n",
    "\n",
    "#pcd.normals = o3d.utility.Vector3dVector(fmi_xyz_n) # feed the normal vectors\n",
    "\n",
    "o3d.visualization.draw_geometries([pcd], point_show_normal=True) # display the pcd"
   ]
  },
  {
   "cell_type": "code",
   "execution_count": null,
   "metadata": {},
   "outputs": [],
   "source": [
    "grid = pv.UniformGrid(dimensions=(1280, 768, 768), spacing=(0.49479, 0.49479, 0.3125), origin=(0, 0, 0), data)"
   ]
  },
  {
   "cell_type": "code",
   "execution_count": null,
   "metadata": {},
   "outputs": [],
   "source": [
    "test = np.load('fmi_xyz.npy')"
   ]
  },
  {
   "cell_type": "code",
   "execution_count": null,
   "metadata": {},
   "outputs": [],
   "source": [
    "# examples/Python/Basic/working_with_numpy.py\n",
    "\n",
    "import copy\n",
    "import numpy as np\n",
    "import open3d as o3d\n",
    "\n",
    "# generate some neat n times 3 matrix using a variant of sync function\n",
    "x = np.linspace(-3, 3, 401)\n",
    "mesh_x, mesh_y = np.meshgrid(x, x)\n",
    "z = np.sinc((np.power(mesh_x, 2) + np.power(mesh_y, 2)))\n",
    "z_norm = (z - z.min()) / (z.max() - z.min())\n",
    "xyz = np.zeros((np.size(mesh_x), 3))\n",
    "xyz[:, 0] = np.reshape(mesh_x, -1)\n",
    "xyz[:, 1] = np.reshape(mesh_y, -1)\n",
    "xyz[:, 2] = np.reshape(z_norm, -1)\n",
    "# print('xyz')\n",
    "# print(xyz)\n",
    "\n",
    "# # Pass xyz to Open3D.o3d.geometry.PointCloud and visualize\n",
    "# pcd = o3d.geometry.PointCloud()\n",
    "# pcd.points = o3d.utility.Vector3dVector(xyz)\n",
    "# #o3d.io.write_point_cloud(\"../../TestData/sync.ply\", pcd)\n",
    "\n",
    "# # Load saved point cloud and visualize it\n",
    "# #pcd_load = o3d.io.read_point_cloud(\"../../TestData/sync.ply\")\n",
    "# o3d.visualization.draw_geometries([pcd_load])\n",
    "\n",
    "# # convert Open3D.o3d.geometry.PointCloud to numpy array\n",
    "# xyz_load = np.asarray(pcd_load.points)\n",
    "# print('xyz_load')\n",
    "# print(xyz_load)\n",
    "\n",
    "# # save z_norm as an image (change [0,1] range to [0,255] range with uint8 type)\n",
    "# img = o3d.geometry.Image((z_norm * 255).astype(np.uint8))\n",
    "# o3d.io.write_image(\"../../TestData/sync.png\", img)\n",
    "# o3d.visualization.draw_geometries([img])"
   ]
  },
  {
   "cell_type": "code",
   "execution_count": null,
   "metadata": {},
   "outputs": [],
   "source": [
    "import numpy as np\n",
    "import pandas as pd\n",
    "import open3d as o3d"
   ]
  },
  {
   "cell_type": "code",
   "execution_count": null,
   "metadata": {},
   "outputs": [],
   "source": [
    "mesh = o3d.io.read_triangle_mesh(\"F:\\.repos\\dv_challenge\\\\ff\\Contour.ply\")"
   ]
  },
  {
   "cell_type": "code",
   "execution_count": null,
   "metadata": {},
   "outputs": [],
   "source": [
    "pcd = o3d.io.read_point_cloud(\"F:\\.repos\\dv_challenge\\\\ff\\Contour.ply\")"
   ]
  },
  {
   "cell_type": "code",
   "execution_count": null,
   "metadata": {},
   "outputs": [],
   "source": [
    "o3d.visualization.draw_geometries([mesh], point_show_normal=True)"
   ]
  },
  {
   "cell_type": "code",
   "execution_count": null,
   "metadata": {},
   "outputs": [],
   "source": [
    "# mesh = mesh.compute_vertex_normals()\n",
    "# mesh = mesh.compute_triangle_normals()\n",
    "#pcd.estimate_normals(search_param=o3d.geometry.KDTreeSearchParamHybrid(radius=10, max_nn=300))\n",
    "\n",
    "#pcd.colors = o3d.utility.Vector3dVector(fmi_raster[:,:3]) # feed the rgb colors\n",
    "\n",
    "#pcd.normals = o3d.utility.Vector3dVector(np.zeros((1, 3)))  # invalidate existing normals\n",
    "pcd.estimate_normals()\n",
    "#pcd.orient_normals_consistent_tangent_plane(10)\n",
    "#pcd.orient_normals_towards_camera_location(np.array([1., 1., 1.]))\n",
    "\n",
    "o3d.visualization.draw_geometries([pcd], point_show_normal=True) # display the pcd"
   ]
  },
  {
   "cell_type": "code",
   "execution_count": null,
   "metadata": {},
   "outputs": [],
   "source": [
    "mesh, densities = o3d.geometry.TriangleMesh.create_from_point_cloud_poisson(pcd, depth=10) # running PSR algorithm\n",
    "\n",
    "o3d.visualization.draw_geometries([mesh], mesh_show_back_face=False) # display the mesh"
   ]
  },
  {
   "cell_type": "code",
   "execution_count": null,
   "metadata": {},
   "outputs": [],
   "source": [
    "\n",
    "downpcd = pcd.voxel_down_sample(voxel_size=0.03)\n",
    "downpcd.estimate_normals(search_param=o3d.geometry.KDTreeSearchParamHybrid(radius=0.0104,max_nn=12))\n",
    "print('run Poisson surface reconstruction')\n",
    "mesh, densities = o3d.geometry.TriangleMesh.create_from_point_cloud_poisson(downpcd, depth=10, width=0, scale=1.1, linear_fit=True)\n",
    "o3d.visualization.draw_geometries([mesh])"
   ]
  },
  {
   "cell_type": "code",
   "execution_count": null,
   "metadata": {},
   "outputs": [],
   "source": []
  }
 ],
 "metadata": {
  "kernelspec": {
   "display_name": ".venvp3107",
   "language": "python",
   "name": "python3"
  },
  "language_info": {
   "codemirror_mode": {
    "name": "ipython",
    "version": 3
   },
   "file_extension": ".py",
   "mimetype": "text/x-python",
   "name": "python",
   "nbconvert_exporter": "python",
   "pygments_lexer": "ipython3",
   "version": "3.10.7"
  },
  "orig_nbformat": 4,
  "vscode": {
   "interpreter": {
    "hash": "62e76a8e328019bd6987da36bff949a4cc6466a553cd0468099112a6cb8a6dbb"
   }
  }
 },
 "nbformat": 4,
 "nbformat_minor": 2
}
