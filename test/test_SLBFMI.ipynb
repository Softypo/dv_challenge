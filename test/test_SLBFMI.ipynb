{
 "cells": [
  {
   "cell_type": "markdown",
   "metadata": {},
   "source": [
    "# Create image log mesh using Open3D Poisson Surface Reconstruction Algorithm"
   ]
  },
  {
   "cell_type": "code",
   "execution_count": 1,
   "metadata": {},
   "outputs": [
    {
     "name": "stdout",
     "output_type": "stream",
     "text": [
      "Jupyter environment detected. Enabling Open3D WebVisualizer.\n",
      "[Open3D INFO] WebRTC GUI backend enabled.\n",
      "[Open3D INFO] WebRTCWindowSystem: HTTP handshake server disabled.\n"
     ]
    }
   ],
   "source": [
    "import open3d as o3d\n",
    "import numpy as np\n",
    "import matplotlib.pyplot as plt\n",
    "\n",
    "from test_dlis_load_function import dlis_loader\n",
    "from test_raster_image import raster_image"
   ]
  },
  {
   "cell_type": "markdown",
   "metadata": {},
   "source": [
    "## Load wellbore image data"
   ]
  },
  {
   "cell_type": "code",
   "execution_count": 2,
   "metadata": {},
   "outputs": [],
   "source": [
    "file = '.\\\\data\\\\58-32_processed_image\\\\DLIS_XML_ProcessedImages\\\\University_of_Utah_MU-ESW1_FMI-HD_7390-7527ft_Run3.dlis'\n",
    "#file = '.\\\\data\\\\58-32_FMI_DLIS_XML\\\\University_of_Utah_MU_ESW1_FMI_HD_2226_7550ft_Run1.dlis'\n",
    "#file = '.\\\\data\\\\58-32_FMI_DLIS_XML\\\\University_of_Utah_MU_ESW1_FMI_HD_7440_7550ft_Run2.dlis'\n",
    "\n",
    "curves_frame = dlis_loader(file)\n",
    "tdep = curves_frame['TDEP']\n",
    "P1NO_FBST_S = curves_frame['P1NO_FBST_S']\n",
    "RB_FBST_S = curves_frame['RB_FBST_S']\n",
    "HAZIM_S = curves_frame['HAZIM_S']\n",
    "DEVIM_S = curves_frame['DEVIM_S']\n",
    "C1_S = curves_frame['C1_S']\n",
    "C2_S = curves_frame['C2_S']\n",
    "BS = curves_frame['BS']\n",
    "fmi_dyn = curves_frame['FMI_DYN']\n",
    "fmi_dyn[fmi_dyn==-9999] = np.nan\n",
    "fmi_stat = curves_frame['FMI_STAT']\n",
    "fmi_stat[fmi_stat==-9999] = np.nan\n",
    "\n",
    "fmi_raster = raster_image(fmi_stat, 'stat')"
   ]
  },
  {
   "cell_type": "code",
   "execution_count": null,
   "metadata": {},
   "outputs": [],
   "source": [
    "fmi_raster = np.array([i for i in fmi_raster[15100:-1,:,:]])\n",
    "BS = np.array([i for i in BS[15100:-1]])\n",
    "HAZIM_S = np.array([i for i in HAZIM_S[15100:-1]])\n",
    "DEVIM_S = np.array([i for i in DEVIM_S[15100:-1]])\n",
    "P1NO_FBST_S = np.array([i for i in P1NO_FBST_S[15100:-1]])\n",
    "RB_FBST_S = np.array([i for i in RB_FBST_S[15100:-1]])"
   ]
  },
  {
   "cell_type": "code",
   "execution_count": 11,
   "metadata": {},
   "outputs": [],
   "source": [
    "dev_rad = np.pi*(90-DEVIM_S)/180\n",
    "azi_rad = np.pi*(HAZIM_S)/180\n",
    "\n",
    "dl_rad = [np.arccos(np.cos(dev_rad[z]-dev_rad[z-1])-np.sin(dev_rad[z-1])*np.sin(dev_rad[z])*(1-np.cos(azi_rad[z]-azi_rad[z-1]))) for z in range(dev_rad.shape[0])]\n",
    "dl_rad[0] = dl_rad[1]\n",
    "rf = [np.tan(dl_rad/2)/(dl_rad/2) if dl_rad!=0.0 else np.nan for dl_rad in dl_rad]\n",
    "steps = [s for s in dl_rad if dl_rad!=0.0]\n",
    "dev_x = steps/2*(SIN(I18)*SIN(J18)+SIN(I19)*SIN(J19))*M19"
   ]
  },
  {
   "cell_type": "code",
   "execution_count": null,
   "metadata": {},
   "outputs": [],
   "source": [
    "np.arccos(np.cos(0)-np.sin(0.5236)*np.sin(0.47124)*(1-np.cos(0.0)))"
   ]
  },
  {
   "cell_type": "code",
   "execution_count": 12,
   "metadata": {},
   "outputs": [],
   "source": [
    "c = 1.5\n",
    "r = BS*0.5\n",
    "fmi_xyz = np.array([[[np.cos(i*0.0174532925)*(r[z]+(fmi_raster[z,i,0]*c)-(fmi_raster[z,fmi_raster[z,:,0]!=0,0]*c).mean() if fmi_raster[z,i,0]!=0.0 else r[z]), np.sin(i*0.0174532925)*(r[z]+(fmi_raster[z,i,0]*c)-(fmi_raster[z,fmi_raster[z,:,0]!=0,0]*c).mean() if fmi_raster[z,i,0]!=0.0 else r[z]), z/10] for i in range(fmi_raster.shape[1])] for z in range(fmi_raster.shape[0])])\n",
    "fmi_xyz_n = np.array([[[1*np.cos(i*0.0174532925)/(r[z]), 1*np.sin(i*0.0174532925)/(r[z]), 0.0] for i in range(fmi_raster.shape[1])] for z in range(fmi_raster.shape[0])])"
   ]
  },
  {
   "cell_type": "code",
   "execution_count": 13,
   "metadata": {},
   "outputs": [],
   "source": [
    "fmi_raster = fmi_raster.reshape(-1, fmi_raster.shape[-1])\n",
    "fmi_xyz = fmi_xyz.reshape(-1, fmi_xyz.shape[-1])\n",
    "fmi_xyz_n = fmi_xyz_n.reshape(-1, fmi_xyz_n.shape[-1])"
   ]
  },
  {
   "cell_type": "code",
   "execution_count": 14,
   "metadata": {},
   "outputs": [],
   "source": [
    "todrop = [row for row in range(fmi_raster.shape[0]) if fmi_raster[row].all()==0]     \n",
    "fmi_raster = np.delete(fmi_raster, todrop, axis=0)\n",
    "fmi_xyz = np.delete(fmi_xyz, todrop, axis=0)\n",
    "fmi_xyz_n = np.delete(fmi_xyz_n, todrop, axis=0)"
   ]
  },
  {
   "cell_type": "markdown",
   "metadata": {},
   "source": [
    "## Preprocessing by creating point cloud data from the wellbore image arrays"
   ]
  },
  {
   "cell_type": "code",
   "execution_count": 15,
   "metadata": {},
   "outputs": [],
   "source": [
    "# Pass xyz, RBG and normals to Open3D.o3d.geometry.PointCloud and visualize\n",
    "pcd = o3d.geometry.PointCloud()\n",
    "pcd.points = o3d.utility.Vector3dVector(fmi_xyz)\n",
    "pcd.colors = o3d.utility.Vector3dVector(fmi_raster[:,:3])\n",
    "pcd.normals = o3d.utility.Vector3dVector(fmi_xyz_n)\n",
    "o3d.visualization.draw_geometries([pcd], point_show_normal=True)"
   ]
  },
  {
   "cell_type": "markdown",
   "metadata": {},
   "source": [
    "## Poisson surface reconstruction"
   ]
  },
  {
   "cell_type": "code",
   "execution_count": 19,
   "metadata": {},
   "outputs": [],
   "source": [
    "# runing Poisson surface reconstruction\n",
    "mesh, densities = o3d.geometry.TriangleMesh.create_from_point_cloud_poisson(pcd, depth=14)\n",
    "o3d.visualization.draw_geometries([mesh], mesh_show_back_face=True)"
   ]
  },
  {
   "cell_type": "code",
   "execution_count": 20,
   "metadata": {},
   "outputs": [],
   "source": [
    "#  visualize mesh vertrex densities\n",
    "densities = np.asarray(densities)\n",
    "density_colors = plt.get_cmap('plasma')((densities - densities.min()) / (densities.max() - densities.min()))\n",
    "density_colors = density_colors[:, :3]\n",
    "density_mesh = o3d.geometry.TriangleMesh()\n",
    "density_mesh.vertices = mesh.vertices\n",
    "density_mesh.triangles = mesh.triangles\n",
    "density_mesh.triangle_normals = mesh.triangle_normals\n",
    "density_mesh.vertex_colors = o3d.utility.Vector3dVector(density_colors)\n",
    "o3d.visualization.draw_geometries([density_mesh], mesh_show_back_face=True)"
   ]
  },
  {
   "cell_type": "code",
   "execution_count": 21,
   "metadata": {},
   "outputs": [
    {
     "name": "stdout",
     "output_type": "stream",
     "text": [
      "[Open3D WARNING] Write Ply clamped color value to valid range\n"
     ]
    },
    {
     "data": {
      "text/plain": [
       "True"
      ]
     },
     "execution_count": 21,
     "metadata": {},
     "output_type": "execute_result"
    }
   ],
   "source": [
    "# removing low density vertices\n",
    "vertices_to_remove = densities < np.quantile(densities, 0.05)\n",
    "mesh.remove_vertices_by_mask(vertices_to_remove)\n",
    "o3d.visualization.draw_geometries([mesh], mesh_show_back_face=True)\n",
    "o3d.io.write_triangle_mesh(\"mesh.ply\", mesh)"
   ]
  }
 ],
 "metadata": {
  "kernelspec": {
   "display_name": "Python 3",
   "language": "python",
   "name": "python3"
  },
  "language_info": {
   "codemirror_mode": {
    "name": "ipython",
    "version": 3
   },
   "file_extension": ".py",
   "mimetype": "text/x-python",
   "name": "python",
   "nbconvert_exporter": "python",
   "pygments_lexer": "ipython3",
   "version": "3.10.7"
  },
  "orig_nbformat": 4,
  "vscode": {
   "interpreter": {
    "hash": "1181de65e860335eb90721c0b97f923d25dc82cbcdc09a17f8c1b36376946eb7"
   }
  }
 },
 "nbformat": 4,
 "nbformat_minor": 2
}
