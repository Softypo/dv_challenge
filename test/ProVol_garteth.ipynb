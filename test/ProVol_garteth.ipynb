{
 "cells": [
  {
   "cell_type": "markdown",
   "id": "bd21ee2c",
   "metadata": {},
   "source": [
    "Workflow to take a cleaned mesh and generate a discrete mesh"
   ]
  },
  {
   "cell_type": "code",
   "execution_count": 10,
   "id": "9d0f6e67",
   "metadata": {},
   "outputs": [],
   "source": [
    "# imports\n",
    "import numpy as np\n",
    "from PIL import Image\n",
    "import cv2 as cv\n",
    "from matplotlib import pyplot as plt\n",
    "import open3d as o3d\n",
    "import pyvista as pv"
   ]
  },
  {
   "cell_type": "code",
   "execution_count": 2,
   "id": "0eacabf0",
   "metadata": {},
   "outputs": [],
   "source": [
    "# read in the array and shapen to volume\n",
    "rootpath = \"F:/Dropbox (DarkVision)/Analysis/Personal/GM/FF/RandD/DVT664_exxon_olaf/\"\n",
    "filename = rootpath+\"volume_export_768x768x1280_uint8_t.raw\"\n",
    "outname = rootpath+\"processed_volume_export_768x768x1280_uint8_t.raw\"\n",
    "array = np.fromfile(filename, dtype= 'uint8')\n",
    "vol = array.reshape(1280,768,768)\n",
    "slice = vol[500,:,:]"
   ]
  },
  {
   "cell_type": "markdown",
   "id": "3144c311",
   "metadata": {},
   "source": [
    "Process the volume"
   ]
  },
  {
   "cell_type": "code",
   "execution_count": 3,
   "id": "a1ddbdde",
   "metadata": {},
   "outputs": [],
   "source": [
    "# trim to only necassary extents\n",
    "xy = np.sum(vol, axis=0)\n",
    "validxy = np.where(xy >0)\n",
    "\n",
    "z = np.sum(vol, axis=1)\n",
    "validz = np.where(z >0)\n",
    "\n",
    "vol = vol[validz[0][0]:validz[0][-1],validxy[0][0]:validxy[0][-1],min(validxy[1]):max(validxy[1])]"
   ]
  },
  {
   "cell_type": "code",
   "execution_count": 5,
   "id": "16dfbc6e",
   "metadata": {},
   "outputs": [],
   "source": [
    "# preprocess\n",
    "for i in range(vol.shape[0]):\n",
    "    slice = vol[i,:,:]\n",
    "    result = cv.fastNlMeansDenoising(slice,h=20,templateWindowSize=10,searchWindowSize=21)\n",
    "    result = cv.threshold(result,80,255,cv.THRESH_BINARY)[1]\n",
    "    thinned = cv.ximgproc.thinning(result)\n",
    "    vol[i,:,:] = thinned"
   ]
  },
  {
   "cell_type": "code",
   "execution_count": 6,
   "id": "e73254e6",
   "metadata": {},
   "outputs": [
    {
     "name": "stdout",
     "output_type": "stream",
     "text": [
      "(1016, 478, 427)\n"
     ]
    }
   ],
   "source": [
    "print(vol.shape)\n",
    "vol.astype('int8').tofile(outname)"
   ]
  },
  {
   "cell_type": "markdown",
   "id": "344fd192",
   "metadata": {},
   "source": [
    "convert to point cloud and save a copy"
   ]
  },
  {
   "cell_type": "code",
   "execution_count": 11,
   "id": "7688bde2",
   "metadata": {},
   "outputs": [],
   "source": [
    "values = np.where(vol>=100, vol, 0)\n",
    "\n",
    "grid = pv.UniformGrid()\n",
    "grid.dimensions = np.array(values.shape) + 1\n",
    "\n",
    "grid.origin = (0, 0, 0)  # The bottom left corner of the data set\n",
    "grid.spacing = (0.3125,0.49479, 0.49479)  # These are the cell sizes along each axis\n",
    "\n",
    "# Add the data values to the cell data\n",
    "grid.cell_data[\"values\"] = values.flatten(order=\"F\")  # Flatten the array!\n",
    "\n",
    "threshed = grid.threshold(100)\n",
    "\n",
    "points = threshed.points        \n",
    "np.savetxt(rootpath+\"filtered_file.xyz\", points)"
   ]
  },
  {
   "cell_type": "markdown",
   "id": "c0662856",
   "metadata": {},
   "source": [
    "Compute normals and load it all into Open3D data type"
   ]
  },
  {
   "cell_type": "code",
   "execution_count": 12,
   "id": "fc8e657d",
   "metadata": {},
   "outputs": [],
   "source": [
    "def radial_norms(points, inward=False):\n",
    "    i = -1 if inward else 1\n",
    "    xmean = points[:, 0].mean()\n",
    "    ymean = points[:, 1].mean()\n",
    "    zmean = points[:, 2].mean()\n",
    "    dist = points[:, 2].max() - points[:, 2].min()\n",
    "    normals = []\n",
    "    for x, y, z in points:\n",
    "        azimuth = np.arctan2((x-xmean), (y-ymean))\n",
    "        dip = np.arcsinh((z-zmean)/dist)\n",
    "        normals.append([i*np.sin(azimuth), i*np.cos(azimuth), dip])\n",
    "    return np.array(normals)\n",
    "\n",
    "normals = radial_norms(points)"
   ]
  },
  {
   "cell_type": "code",
   "execution_count": 13,
   "id": "38f7ed05",
   "metadata": {},
   "outputs": [],
   "source": [
    "pcd = o3d.geometry.PointCloud() # create an empty poun cloud object\n",
    "\n",
    "pcd.points = o3d.utility.Vector3dVector(points) # feed the xyz coordinates\n",
    "\n",
    "pcd.colors = o3d.utility.Vector3dVector(plt.get_cmap('hsv')((points[:, 2] - points[:, 2].min()) / (points[:, 2].max() - points[:, 2].min()))[:, :3]) # feed the rgb colors\n",
    "\n",
    "pcd.normals = o3d.utility.Vector3dVector(normals) # feed the normal vectors\n",
    "\n",
    "#o3d.visualization.draw_geometries([pcd], point_show_normal=True) # display the pcd"
   ]
  },
  {
   "cell_type": "markdown",
   "id": "e42aaaeb",
   "metadata": {},
   "source": [
    "Create the mesh with poisson"
   ]
  },
  {
   "cell_type": "code",
   "execution_count": 15,
   "id": "c2ff524e",
   "metadata": {},
   "outputs": [],
   "source": [
    "mesh, densities = o3d.geometry.TriangleMesh.create_from_point_cloud_poisson(pcd, depth=10, scale=1.1, linear_fit=False) # running PSR algorithm\n",
    "#  visualize mesh vertrex densities\n",
    "densities = np.asarray(densities)\n",
    "density_mesh = o3d.geometry.TriangleMesh()\n",
    "density_mesh.vertices = mesh.vertices\n",
    "density_mesh.triangles = mesh.triangles\n",
    "density_mesh.triangle_normals = mesh.triangle_normals\n",
    "density_mesh.vertex_colors = o3d.utility.Vector3dVector(plt.get_cmap('plasma')((densities - densities.min()) / (densities.max() - densities.min()))[:, :3])"
   ]
  },
  {
   "cell_type": "code",
   "execution_count": 16,
   "id": "3937f38e",
   "metadata": {},
   "outputs": [
    {
     "name": "stdout",
     "output_type": "stream",
     "text": [
      "[Open3D WARNING] Write Ply clamped color value to valid range\n"
     ]
    },
    {
     "data": {
      "text/plain": [
       "True"
      ]
     },
     "execution_count": 16,
     "metadata": {},
     "output_type": "execute_result"
    }
   ],
   "source": [
    "# removing low density vertices\n",
    "vertices_to_remove = densities < np.quantile(densities, 0.05)\n",
    "mesh.remove_vertices_by_mask(vertices_to_remove)\n",
    "#o3d.visualization.draw_geometries([mesh], mesh_show_back_face=True)\n",
    "o3d.io.write_triangle_mesh(\"03d_mesh.ply\", mesh)"
   ]
  },
  {
   "cell_type": "code",
   "execution_count": 18,
   "id": "e66f130d",
   "metadata": {},
   "outputs": [],
   "source": [
    "data = pv.read(rootpath+'03d_mesh.ply')\n",
    "data.save(rootpath+'03d_mesh.ply')"
   ]
  },
  {
   "cell_type": "code",
   "execution_count": null,
   "id": "52cfe2f7",
   "metadata": {},
   "outputs": [],
   "source": []
  }
 ],
 "metadata": {
  "kernelspec": {
   "display_name": "Python 3 (ipykernel)",
   "language": "python",
   "name": "python3"
  },
  "language_info": {
   "codemirror_mode": {
    "name": "ipython",
    "version": 3
   },
   "file_extension": ".py",
   "mimetype": "text/x-python",
   "name": "python",
   "nbconvert_exporter": "python",
   "pygments_lexer": "ipython3",
   "version": "3.9.13"
  }
 },
 "nbformat": 4,
 "nbformat_minor": 5
}
